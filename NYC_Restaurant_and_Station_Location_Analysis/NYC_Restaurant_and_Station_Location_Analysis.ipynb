version https://git-lfs.github.com/spec/v1
oid sha256:e2aa9cc87a0ea6868d60acfac17ec1053c236dfeaa344aaf25d33bfa968688b4
size 277237568
